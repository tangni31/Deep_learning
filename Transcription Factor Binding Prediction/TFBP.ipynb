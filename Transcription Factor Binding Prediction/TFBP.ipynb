{
 "cells": [
  {
   "cell_type": "code",
   "execution_count": 1,
   "metadata": {},
   "outputs": [
    {
     "name": "stderr",
     "output_type": "stream",
     "text": [
      "Using TensorFlow backend.\n"
     ]
    }
   ],
   "source": [
    "import csv\n",
    "import numpy as np\n",
    "\n",
    "from keras.layers.normalization import BatchNormalization\n",
    "from keras.layers.convolutional import Conv2D, MaxPooling2D\n",
    "from keras.layers.core import Dense, Flatten, Reshape, Activation, Dropout\n",
    "from keras.models import Sequential\n",
    "from keras.utils.np_utils import to_categorical\n",
    "from keras import optimizers\n",
    "from keras.layers.recurrent import LSTM"
   ]
  },
  {
   "cell_type": "code",
   "execution_count": 44,
   "metadata": {},
   "outputs": [],
   "source": [
    "def read_inpt_file(file_name):\n",
    "    csvFile = open(file_name,'r')\n",
    "    reader = csv.reader(csvFile)\n",
    "    features = []\n",
    "    labels = []\n",
    "    for item in reader:    \n",
    "        if reader.line_num == 1:# ignore line 1\n",
    "            continue\n",
    "        feature = alpha_to_num(item[1])\n",
    "        features.append(feature)\n",
    "        labels.append(item[2])\n",
    "    csvFile.close()\n",
    "    features = np.array(features)\n",
    "    features = features.astype('float64')\n",
    "    labels = np.array(labels)\n",
    "    labels = labels.astype('float64')\n",
    "    return features, labels\n",
    "\n",
    "#convert 'A,C,T,G'to integer '0,1,2,3'\n",
    "def alpha_to_num(alpha):\n",
    "    feature_num = np.zeros(len(alpha))\n",
    "    for i in range(len(alpha)):\n",
    "        if alpha[i] == 'A':\n",
    "            feature_num[i] = 0\n",
    "        elif alpha[i] == 'C':\n",
    "            feature_num[i] = 1\n",
    "        elif alpha[i] == 'T':\n",
    "            feature_num[i] = 2\n",
    "        elif alpha[i] == 'G':\n",
    "            feature_num[i] = 3\n",
    "        else:\n",
    "            raise AssertionError(\"cannot handle: \" + alpha[i] )\n",
    "    return feature_num\n",
    "\n",
    "def one_hot_encoding(features, dna_length):\n",
    "    y = np.zeros((features.shape[0], dna_length, 4))\n",
    "    for i in range(0, len(features)):\n",
    "        y[i] = to_categorical(features[i],4)\n",
    "    return y\n",
    "\n",
    "def read_test_file(file_name):\n",
    "    csvFile = open(file_name,'r')\n",
    "    reader = csv.reader(csvFile)\n",
    "    features = []\n",
    "    for item in reader:\n",
    "        if reader.line_num == 1:# ignore line 1\n",
    "            continue\n",
    "        feature = alpha_to_num(item[1])\n",
    "        features.append(feature)\n",
    "    csvFile.close()\n",
    "    features = np.array(features)\n",
    "    features = features.astype('float64')\n",
    "    return features"
   ]
  },
  {
   "cell_type": "code",
   "execution_count": 28,
   "metadata": {
    "scrolled": true
   },
   "outputs": [
    {
     "name": "stdout",
     "output_type": "stream",
     "text": [
      "_________________________________________________________________\n",
      "Layer (type)                 Output Shape              Param #   \n",
      "=================================================================\n",
      "batch_normalization_9 (Batch (None, 14, 4, 1)          4         \n",
      "_________________________________________________________________\n",
      "conv2d_16 (Conv2D)           (None, 11, 1, 128)        2176      \n",
      "_________________________________________________________________\n",
      "max_pooling2d_2 (MaxPooling2 (None, 3, 1, 128)         0         \n",
      "_________________________________________________________________\n",
      "flatten_7 (Flatten)          (None, 384)               0         \n",
      "_________________________________________________________________\n",
      "dense_11 (Dense)             (None, 32)                12320     \n",
      "_________________________________________________________________\n",
      "dense_12 (Dense)             (None, 1)                 33        \n",
      "=================================================================\n",
      "Total params: 14,533\n",
      "Trainable params: 14,531\n",
      "Non-trainable params: 2\n",
      "_________________________________________________________________\n"
     ]
    }
   ],
   "source": [
    "#create a CNN model\n",
    "model_CNN = Sequential()\n",
    "\n",
    "model_CNN.add(BatchNormalization(input_shape =(14, 4, 1) ))\n",
    "\n",
    "model_CNN.add(Conv2D(128, (4, 4), padding='valid', input_shape=(14, 4, 1),activation='relu'))\n",
    "\n",
    "model_CNN.add(MaxPooling2D(pool_size=(3,1), padding='valid'))\n",
    "\n",
    "#model_CNN.add(Conv2D(32, (2, 1), padding='valid',activation='relu'))\n",
    "\n",
    "#model_CNN.add(Conv2D(16, (1, 1), padding='valid', activation='relu'))\n",
    "\n",
    "model_CNN.add(Flatten())\n",
    "model_CNN.add(Dense(32, activation='relu')) #fully connected layer with 32 neurons\n",
    "\n",
    "model_CRNN.add(Dropout(rate=0.5))\n",
    "\n",
    "model_CNN.add(Dense(1, activation='sigmoid'))\n",
    "\n",
    "adam = optimizers.Adam(lr=0.001)\n",
    "\n",
    "sgd = optimizers.SGD(lr=0.003, momentum=0.9)\n",
    "\n",
    "model_CNN.compile(loss='mean_squared_error', optimizer= adam)\n",
    "\n",
    "model_CNN.summary()"
   ]
  },
  {
   "cell_type": "code",
   "execution_count": 4,
   "metadata": {
    "scrolled": false
   },
   "outputs": [
    {
     "name": "stdout",
     "output_type": "stream",
     "text": [
      "_________________________________________________________________\n",
      "Layer (type)                 Output Shape              Param #   \n",
      "=================================================================\n",
      "lstm_1 (LSTM)                (None, 14, 10)            600       \n",
      "_________________________________________________________________\n",
      "lstm_2 (LSTM)                (None, 14, 5)             320       \n",
      "_________________________________________________________________\n",
      "lstm_3 (LSTM)                (None, 1)                 28        \n",
      "=================================================================\n",
      "Total params: 948\n",
      "Trainable params: 948\n",
      "Non-trainable params: 0\n",
      "_________________________________________________________________\n"
     ]
    }
   ],
   "source": [
    "#create a RNN model\n",
    "model_RNN = Sequential()\n",
    "\n",
    "model_RNN.add(LSTM(10, input_shape=(14, 4),return_sequences=True))\n",
    "model_RNN.add(LSTM(5,return_sequences=True))\n",
    "model_RNN.add(LSTM(1))\n",
    "\n",
    "sgd = optimizers.SGD(lr=0.001, momentum=0.9)\n",
    "\n",
    "model_RNN.compile(loss='mean_squared_error', optimizer= sgd)#'mean_squared_error'\n",
    "\n",
    "model_RNN.summary()"
   ]
  },
  {
   "cell_type": "code",
   "execution_count": 34,
   "metadata": {},
   "outputs": [
    {
     "name": "stdout",
     "output_type": "stream",
     "text": [
      "_________________________________________________________________\n",
      "Layer (type)                 Output Shape              Param #   \n",
      "=================================================================\n",
      "batch_normalization_14 (Batc (None, 14, 4, 1)          4         \n",
      "_________________________________________________________________\n",
      "conv2d_21 (Conv2D)           (None, 11, 1, 128)        2176      \n",
      "_________________________________________________________________\n",
      "conv2d_22 (Conv2D)           (None, 10, 1, 16)         4112      \n",
      "_________________________________________________________________\n",
      "reshape_11 (Reshape)         (None, 16, 10)            0         \n",
      "_________________________________________________________________\n",
      "lstm_15 (LSTM)               (None, 16, 16)            1728      \n",
      "_________________________________________________________________\n",
      "flatten_11 (Flatten)         (None, 256)               0         \n",
      "_________________________________________________________________\n",
      "dense_17 (Dense)             (None, 32)                8224      \n",
      "_________________________________________________________________\n",
      "dropout_11 (Dropout)         (None, 32)                0         \n",
      "_________________________________________________________________\n",
      "dense_18 (Dense)             (None, 1)                 33        \n",
      "=================================================================\n",
      "Total params: 16,277\n",
      "Trainable params: 16,275\n",
      "Non-trainable params: 2\n",
      "_________________________________________________________________\n"
     ]
    }
   ],
   "source": [
    "#create a CNN + RNN model\n",
    "model_CRNN = Sequential()\n",
    "\n",
    "model_CRNN.add(BatchNormalization(input_shape =(14, 4, 1) ))\n",
    "\n",
    "model_CRNN.add(Conv2D(128, (4, 4), padding='valid', input_shape=(14, 4, 1),activation='relu'))\n",
    "\n",
    "#model_CRNN.add(MaxPooling2D(pool_size=(3,1), padding='valid'))\n",
    "\n",
    "model_CRNN.add(Conv2D(16, (2, 1), padding='valid',activation='relu'))\n",
    "\n",
    "#model_CRNN.add(Conv2D(16, (1, 1), padding='valid', activation='relu'))\n",
    "\n",
    "\n",
    "model_CRNN.add(Reshape((16,10)))\n",
    "#model_CRNN.add(Reshape((128,11)))\n",
    "\n",
    "\n",
    "model_CRNN.add(LSTM(16, return_sequences=True))\n",
    "#model_CRNN.add(LSTM(4, return_sequences=True))\n",
    "\n",
    "model_CRNN.add(Flatten())\n",
    "model_CRNN.add(Dense(32, activation='sigmoid'))\n",
    "model_CRNN.add(Dropout(rate=0.5))\n",
    "model_CRNN.add(Dense(1, activation='sigmoid'))\n",
    "\n",
    "adam = optimizers.Adam(lr=0.001)\n",
    "\n",
    "#(y_true, y_pred)\n",
    "model_CRNN.compile(loss='mean_squared_error', optimizer= adam)\n",
    "model_CRNN.summary()"
   ]
  },
  {
   "cell_type": "code",
   "execution_count": 40,
   "metadata": {},
   "outputs": [],
   "source": [
    "#train\n",
    "def train(model_name = 'CNN',batch=16, epoch = 5):\n",
    "    if model_name == 'CNN':\n",
    "        model = model_CNN\n",
    "    elif model_name == 'RNN':\n",
    "        model = model_RNN\n",
    "    else:\n",
    "         model = model_CRNN\n",
    "    features, labels = read_inpt_file('train.csv')\n",
    "    train_features = features[0:1600]\n",
    "    train_labels = labels[0:1600]\n",
    "    validate_features = features[1600:]\n",
    "    validate_lables = labels[1600:]\n",
    "    t = one_hot_encoding(train_features, 14)\n",
    "    v = one_hot_encoding(validate_features, 14)\n",
    "    if model_name == 'CNN' or  model_name == 'CRNN': #reshape input for conv layer\n",
    "        t = t.reshape((t.shape[0], t.shape[1], t.shape[2], 1))\n",
    "        v = v.reshape((v.shape[0], v.shape[1], v.shape[2], 1))\n",
    "    model.fit(t, train_labels,\n",
    "          batch_size=16, epochs=epoch,\n",
    "          validation_data=(v, validate_lables ))"
   ]
  },
  {
   "cell_type": "code",
   "execution_count": 7,
   "metadata": {},
   "outputs": [],
   "source": [
    "def predict(model_name = 'CNN'):\n",
    "    if model_name == 'CNN':\n",
    "        model = model_CNN\n",
    "    elif model_name == 'RNN':\n",
    "        model = model_RNN\n",
    "    else:\n",
    "         model = model_CRNN\n",
    "    test = read_test_file('test.csv')\n",
    "    t = one_hot_encoding(test, 14)\n",
    "    if model_name == 'CNN' or  model_name == 'CRNN': #reshape input for conv layer\n",
    "        t = t.reshape((t.shape[0], t.shape[1], t.shape[2], 1))\n",
    "    predicted = model.predict(t, batch_size=32).flatten()\n",
    "    predicted_list =[]\n",
    "    for p in predicted:   \n",
    "        if p < 0.5:\n",
    "            predicted_list.append(0)\n",
    "        else:\n",
    "            predicted_list.append(1)\n",
    "    print (predicted_list)\n",
    "    sum = 0\n",
    "    for i in predicted_list:\n",
    "        sum+=i\n",
    "    print(sum)\n",
    "    return predicted_list"
   ]
  },
  {
   "cell_type": "code",
   "execution_count": 42,
   "metadata": {},
   "outputs": [
    {
     "name": "stdout",
     "output_type": "stream",
     "text": [
      "Train on 1600 samples, validate on 400 samples\n",
      "Epoch 1/3\n",
      "1600/1600 [==============================] - 1s 324us/step - loss: 0.0762 - val_loss: 0.1137\n",
      "Epoch 2/3\n",
      "1600/1600 [==============================] - 1s 318us/step - loss: 0.0750 - val_loss: 0.1086\n",
      "Epoch 3/3\n",
      "1600/1600 [==============================] - 1s 322us/step - loss: 0.0728 - val_loss: 0.1043\n"
     ]
    }
   ],
   "source": [
    "train(model_name = 'CNN',batch=16, epoch = 3)#model_name = CNN, RNN or CRNN"
   ]
  },
  {
   "cell_type": "code",
   "execution_count": 36,
   "metadata": {},
   "outputs": [
    {
     "name": "stdout",
     "output_type": "stream",
     "text": [
      "[1, 1, 1, 0, 0, 0, 1, 0, 1, 1, 1, 0, 1, 1, 0, 0, 0, 0, 1, 1, 0, 1, 1, 1, 0, 1, 0, 1, 0, 0, 1, 1, 1, 1, 0, 0, 0, 1, 1, 1, 0, 0, 0, 0, 1, 0, 0, 1, 1, 0, 1, 1, 0, 0, 0, 1, 0, 1, 1, 0, 0, 0, 1, 1, 0, 1, 0, 1, 0, 0, 0, 1, 1, 1, 1, 0, 0, 1, 1, 0, 0, 1, 0, 1, 0, 0, 0, 0, 0, 0, 1, 0, 0, 0, 0, 0, 1, 0, 1, 0, 0, 1, 0, 1, 1, 0, 1, 1, 0, 0, 1, 1, 1, 1, 0, 0, 0, 1, 0, 1, 1, 0, 1, 0, 0, 1, 1, 1, 1, 1, 0, 1, 1, 0, 0, 0, 1, 1, 0, 1, 0, 0, 1, 0, 0, 0, 0, 0, 0, 1, 1, 1, 1, 0, 1, 0, 1, 0, 1, 1, 0, 1, 1, 1, 0, 1, 0, 1, 1, 1, 1, 1, 1, 0, 0, 0, 1, 1, 0, 1, 0, 0, 1, 1, 0, 0, 0, 1, 0, 1, 0, 1, 0, 0, 1, 0, 0, 0, 1, 1, 0, 1, 1, 0, 1, 0, 1, 0, 0, 0, 1, 1, 0, 1, 0, 0, 0, 0, 0, 1, 0, 1, 1, 0, 1, 1, 0, 0, 1, 1, 1, 1, 0, 0, 1, 0, 0, 1, 1, 1, 1, 0, 0, 0, 0, 0, 1, 1, 0, 1, 1, 0, 1, 1, 0, 0, 1, 1, 0, 0, 1, 1, 1, 0, 1, 1, 1, 1, 1, 1, 1, 0, 0, 1, 0, 0, 0, 1, 1, 0, 0, 1, 0, 0, 1, 0, 1, 0, 1, 0, 0, 0, 1, 1, 1, 1, 0, 0, 0, 1, 1, 1, 1, 0, 1, 1, 1, 1, 0, 0, 0, 0, 1, 1, 1, 0, 0, 1, 1, 0, 0, 0, 1, 1, 0, 1, 1, 0, 1, 1, 1, 0, 1, 0, 1, 1, 1, 1, 1, 1, 0, 1, 1, 1, 0, 1, 1, 0, 0, 0, 1, 1, 1, 0, 1, 0, 1, 1, 0, 0, 1, 1, 1, 1, 0, 0, 0, 1, 1, 1, 1, 0, 0, 0, 1, 0, 1, 0, 1, 1, 0, 0, 1, 0, 1, 0, 0, 0, 1, 1, 0, 0, 0, 0, 1, 1, 0, 1, 0, 0]\n",
      "206\n"
     ]
    }
   ],
   "source": [
    "predicted_list = predict('CRNN')#return predicted result"
   ]
  },
  {
   "cell_type": "code",
   "execution_count": 37,
   "metadata": {},
   "outputs": [],
   "source": [
    "#write result predicted into a csv file\n",
    "fileHeader = ['id', 'prediction']\n",
    "csvFile = open('Predictions.csv','w',newline='')\n",
    "writer = csv.writer(csvFile)\n",
    "writer.writerow(fileHeader)\n",
    "for i in range(len(predicted_list)):\n",
    "    writer.writerow([i,predicted_list[i]])\n",
    "csvFile.close()"
   ]
  }
 ],
 "metadata": {
  "kernelspec": {
   "display_name": "Python 3",
   "language": "python",
   "name": "python3"
  },
  "language_info": {
   "codemirror_mode": {
    "name": "ipython",
    "version": 3
   },
   "file_extension": ".py",
   "mimetype": "text/x-python",
   "name": "python",
   "nbconvert_exporter": "python",
   "pygments_lexer": "ipython3",
   "version": "3.6.3"
  }
 },
 "nbformat": 4,
 "nbformat_minor": 2
}
